{
 "cells": [
  {
   "cell_type": "markdown",
   "metadata": {},
   "source": [
    "## **Exercise ML - NOTEBOOK #1: Exploratory Data Analysis (EDA)**\n",
    "\n",
    "Created by **Sebastian Belalcazar Mosquera**."
   ]
  },
  {
   "cell_type": "markdown",
   "metadata": {},
   "source": [
    "### **Setting Environment**"
   ]
  },
  {
   "cell_type": "code",
   "execution_count": 1,
   "metadata": {},
   "outputs": [
    {
     "name": "stdout",
     "output_type": "stream",
     "text": [
      "d:\\U\\FIFTH SEMESTER\\ETL\\exercise_ml\\notebooks\n",
      "d:\\U\\FIFTH SEMESTER\\ETL\\ml_exercise\n"
     ]
    }
   ],
   "source": [
    "import os \n",
    "print(os.getcwd())\n",
    "\n",
    "try:\n",
    "    os.chdir(\"../../ml_exercise\")\n",
    "\n",
    "except FileNotFoundError:\n",
    "    print(\"\"\"\n",
    "        FileNotFoundError - The directory may not exist or you might not be in the specified path.\n",
    "        If this has already worked, do not run this block again, as the current directory is already set to workshop-003.\n",
    "        \"\"\")\n",
    "    \n",
    "print(os.getcwd())"
   ]
  },
  {
   "cell_type": "markdown",
   "metadata": {},
   "source": [
    "### **Importing modules and libraries**"
   ]
  },
  {
   "cell_type": "code",
   "execution_count": 2,
   "metadata": {},
   "outputs": [],
   "source": [
    "import pandas as pd\n",
    "import numpy as np"
   ]
  },
  {
   "cell_type": "markdown",
   "metadata": {},
   "source": [
    "### **Read Data**"
   ]
  },
  {
   "cell_type": "code",
   "execution_count": 3,
   "metadata": {},
   "outputs": [
    {
     "name": "stderr",
     "output_type": "stream",
     "text": [
      "<>:1: SyntaxWarning: invalid escape sequence '\\M'\n",
      "<>:1: SyntaxWarning: invalid escape sequence '\\M'\n",
      "C:\\Users\\sebas\\AppData\\Local\\Temp\\ipykernel_16972\\1298227498.py:1: SyntaxWarning: invalid escape sequence '\\M'\n",
      "  df_raw = pd.read_json(\"data\\MLA_100k.jsonlines\", lines=True)\n"
     ]
    }
   ],
   "source": [
    "df_raw = pd.read_json(\"data\\MLA_100k.jsonlines\", lines=True)"
   ]
  },
  {
   "cell_type": "code",
   "execution_count": 4,
   "metadata": {},
   "outputs": [
    {
     "data": {
      "text/html": [
       "<div>\n",
       "<style scoped>\n",
       "    .dataframe tbody tr th:only-of-type {\n",
       "        vertical-align: middle;\n",
       "    }\n",
       "\n",
       "    .dataframe tbody tr th {\n",
       "        vertical-align: top;\n",
       "    }\n",
       "\n",
       "    .dataframe thead th {\n",
       "        text-align: right;\n",
       "    }\n",
       "</style>\n",
       "<table border=\"1\" class=\"dataframe\">\n",
       "  <thead>\n",
       "    <tr style=\"text-align: right;\">\n",
       "      <th></th>\n",
       "      <th>seller_address</th>\n",
       "      <th>warranty</th>\n",
       "      <th>sub_status</th>\n",
       "      <th>condition</th>\n",
       "      <th>seller_contact</th>\n",
       "      <th>deal_ids</th>\n",
       "      <th>base_price</th>\n",
       "      <th>shipping</th>\n",
       "      <th>non_mercado_pago_payment_methods</th>\n",
       "      <th>seller_id</th>\n",
       "      <th>...</th>\n",
       "      <th>status</th>\n",
       "      <th>video_id</th>\n",
       "      <th>catalog_product_id</th>\n",
       "      <th>subtitle</th>\n",
       "      <th>initial_quantity</th>\n",
       "      <th>start_time</th>\n",
       "      <th>permalink</th>\n",
       "      <th>geolocation</th>\n",
       "      <th>sold_quantity</th>\n",
       "      <th>available_quantity</th>\n",
       "    </tr>\n",
       "  </thead>\n",
       "  <tbody>\n",
       "    <tr>\n",
       "      <th>0</th>\n",
       "      <td>{'comment': '', 'longitude': -58.3986709, 'id'...</td>\n",
       "      <td>None</td>\n",
       "      <td>[]</td>\n",
       "      <td>new</td>\n",
       "      <td>None</td>\n",
       "      <td>[]</td>\n",
       "      <td>80.0</td>\n",
       "      <td>{'local_pick_up': True, 'methods': [], 'tags':...</td>\n",
       "      <td>[{'description': 'Transferencia bancaria', 'id...</td>\n",
       "      <td>74952096</td>\n",
       "      <td>...</td>\n",
       "      <td>active</td>\n",
       "      <td>None</td>\n",
       "      <td>NaN</td>\n",
       "      <td>NaN</td>\n",
       "      <td>1</td>\n",
       "      <td>2015-09-05 20:42:53+00:00</td>\n",
       "      <td>http://articulo.mercadolibre.com.ar/MLA-578052...</td>\n",
       "      <td>{'latitude': -34.6280698, 'longitude': -58.398...</td>\n",
       "      <td>0</td>\n",
       "      <td>1</td>\n",
       "    </tr>\n",
       "    <tr>\n",
       "      <th>1</th>\n",
       "      <td>{'comment': '', 'longitude': -58.5059173, 'id'...</td>\n",
       "      <td>NUESTRA REPUTACION</td>\n",
       "      <td>[]</td>\n",
       "      <td>used</td>\n",
       "      <td>None</td>\n",
       "      <td>[]</td>\n",
       "      <td>2650.0</td>\n",
       "      <td>{'local_pick_up': True, 'methods': [], 'tags':...</td>\n",
       "      <td>[{'description': 'Transferencia bancaria', 'id...</td>\n",
       "      <td>42093335</td>\n",
       "      <td>...</td>\n",
       "      <td>active</td>\n",
       "      <td>None</td>\n",
       "      <td>NaN</td>\n",
       "      <td>NaN</td>\n",
       "      <td>1</td>\n",
       "      <td>2015-09-26 18:08:30+00:00</td>\n",
       "      <td>http://articulo.mercadolibre.com.ar/MLA-581565...</td>\n",
       "      <td>{'latitude': -34.5935524, 'longitude': -58.505...</td>\n",
       "      <td>0</td>\n",
       "      <td>1</td>\n",
       "    </tr>\n",
       "    <tr>\n",
       "      <th>2</th>\n",
       "      <td>{'comment': '', 'longitude': -58.4143948, 'id'...</td>\n",
       "      <td>None</td>\n",
       "      <td>[]</td>\n",
       "      <td>used</td>\n",
       "      <td>None</td>\n",
       "      <td>[]</td>\n",
       "      <td>60.0</td>\n",
       "      <td>{'local_pick_up': True, 'methods': [], 'tags':...</td>\n",
       "      <td>[{'description': 'Transferencia bancaria', 'id...</td>\n",
       "      <td>133384258</td>\n",
       "      <td>...</td>\n",
       "      <td>active</td>\n",
       "      <td>None</td>\n",
       "      <td>NaN</td>\n",
       "      <td>NaN</td>\n",
       "      <td>1</td>\n",
       "      <td>2015-09-09 23:57:07+00:00</td>\n",
       "      <td>http://articulo.mercadolibre.com.ar/MLA-578780...</td>\n",
       "      <td>{'latitude': -34.6233907, 'longitude': -58.414...</td>\n",
       "      <td>0</td>\n",
       "      <td>1</td>\n",
       "    </tr>\n",
       "    <tr>\n",
       "      <th>3</th>\n",
       "      <td>{'comment': '', 'longitude': -58.4929208, 'id'...</td>\n",
       "      <td>None</td>\n",
       "      <td>[]</td>\n",
       "      <td>new</td>\n",
       "      <td>None</td>\n",
       "      <td>[]</td>\n",
       "      <td>580.0</td>\n",
       "      <td>{'local_pick_up': True, 'methods': [], 'tags':...</td>\n",
       "      <td>[{'description': 'Transferencia bancaria', 'id...</td>\n",
       "      <td>143001605</td>\n",
       "      <td>...</td>\n",
       "      <td>active</td>\n",
       "      <td>None</td>\n",
       "      <td>NaN</td>\n",
       "      <td>NaN</td>\n",
       "      <td>1</td>\n",
       "      <td>2015-09-28 18:47:56+00:00</td>\n",
       "      <td>http://articulo.mercadolibre.com.ar/MLA-581877...</td>\n",
       "      <td>{'latitude': -34.6281894, 'longitude': -58.492...</td>\n",
       "      <td>0</td>\n",
       "      <td>1</td>\n",
       "    </tr>\n",
       "    <tr>\n",
       "      <th>4</th>\n",
       "      <td>{'comment': '', 'longitude': -58.5495042, 'id'...</td>\n",
       "      <td>MI REPUTACION.</td>\n",
       "      <td>[]</td>\n",
       "      <td>used</td>\n",
       "      <td>None</td>\n",
       "      <td>[]</td>\n",
       "      <td>30.0</td>\n",
       "      <td>{'local_pick_up': True, 'methods': [], 'tags':...</td>\n",
       "      <td>[{'description': 'Transferencia bancaria', 'id...</td>\n",
       "      <td>96873449</td>\n",
       "      <td>...</td>\n",
       "      <td>active</td>\n",
       "      <td>None</td>\n",
       "      <td>NaN</td>\n",
       "      <td>NaN</td>\n",
       "      <td>1</td>\n",
       "      <td>2015-08-24 22:07:20+00:00</td>\n",
       "      <td>http://articulo.mercadolibre.com.ar/MLA-576112...</td>\n",
       "      <td>{'latitude': -34.6346547, 'longitude': -58.549...</td>\n",
       "      <td>0</td>\n",
       "      <td>1</td>\n",
       "    </tr>\n",
       "  </tbody>\n",
       "</table>\n",
       "<p>5 rows × 48 columns</p>\n",
       "</div>"
      ],
      "text/plain": [
       "                                      seller_address            warranty  \\\n",
       "0  {'comment': '', 'longitude': -58.3986709, 'id'...                None   \n",
       "1  {'comment': '', 'longitude': -58.5059173, 'id'...  NUESTRA REPUTACION   \n",
       "2  {'comment': '', 'longitude': -58.4143948, 'id'...                None   \n",
       "3  {'comment': '', 'longitude': -58.4929208, 'id'...                None   \n",
       "4  {'comment': '', 'longitude': -58.5495042, 'id'...      MI REPUTACION.   \n",
       "\n",
       "  sub_status condition seller_contact deal_ids  base_price  \\\n",
       "0         []       new           None       []        80.0   \n",
       "1         []      used           None       []      2650.0   \n",
       "2         []      used           None       []        60.0   \n",
       "3         []       new           None       []       580.0   \n",
       "4         []      used           None       []        30.0   \n",
       "\n",
       "                                            shipping  \\\n",
       "0  {'local_pick_up': True, 'methods': [], 'tags':...   \n",
       "1  {'local_pick_up': True, 'methods': [], 'tags':...   \n",
       "2  {'local_pick_up': True, 'methods': [], 'tags':...   \n",
       "3  {'local_pick_up': True, 'methods': [], 'tags':...   \n",
       "4  {'local_pick_up': True, 'methods': [], 'tags':...   \n",
       "\n",
       "                    non_mercado_pago_payment_methods  seller_id  ...  status  \\\n",
       "0  [{'description': 'Transferencia bancaria', 'id...   74952096  ...  active   \n",
       "1  [{'description': 'Transferencia bancaria', 'id...   42093335  ...  active   \n",
       "2  [{'description': 'Transferencia bancaria', 'id...  133384258  ...  active   \n",
       "3  [{'description': 'Transferencia bancaria', 'id...  143001605  ...  active   \n",
       "4  [{'description': 'Transferencia bancaria', 'id...   96873449  ...  active   \n",
       "\n",
       "  video_id catalog_product_id subtitle  initial_quantity  \\\n",
       "0     None                NaN      NaN                 1   \n",
       "1     None                NaN      NaN                 1   \n",
       "2     None                NaN      NaN                 1   \n",
       "3     None                NaN      NaN                 1   \n",
       "4     None                NaN      NaN                 1   \n",
       "\n",
       "                 start_time  \\\n",
       "0 2015-09-05 20:42:53+00:00   \n",
       "1 2015-09-26 18:08:30+00:00   \n",
       "2 2015-09-09 23:57:07+00:00   \n",
       "3 2015-09-28 18:47:56+00:00   \n",
       "4 2015-08-24 22:07:20+00:00   \n",
       "\n",
       "                                           permalink  \\\n",
       "0  http://articulo.mercadolibre.com.ar/MLA-578052...   \n",
       "1  http://articulo.mercadolibre.com.ar/MLA-581565...   \n",
       "2  http://articulo.mercadolibre.com.ar/MLA-578780...   \n",
       "3  http://articulo.mercadolibre.com.ar/MLA-581877...   \n",
       "4  http://articulo.mercadolibre.com.ar/MLA-576112...   \n",
       "\n",
       "                                         geolocation sold_quantity  \\\n",
       "0  {'latitude': -34.6280698, 'longitude': -58.398...             0   \n",
       "1  {'latitude': -34.5935524, 'longitude': -58.505...             0   \n",
       "2  {'latitude': -34.6233907, 'longitude': -58.414...             0   \n",
       "3  {'latitude': -34.6281894, 'longitude': -58.492...             0   \n",
       "4  {'latitude': -34.6346547, 'longitude': -58.549...             0   \n",
       "\n",
       "  available_quantity  \n",
       "0                  1  \n",
       "1                  1  \n",
       "2                  1  \n",
       "3                  1  \n",
       "4                  1  \n",
       "\n",
       "[5 rows x 48 columns]"
      ]
     },
     "execution_count": 4,
     "metadata": {},
     "output_type": "execute_result"
    }
   ],
   "source": [
    "df_raw.head()"
   ]
  },
  {
   "cell_type": "code",
   "execution_count": 5,
   "metadata": {},
   "outputs": [
    {
     "name": "stdout",
     "output_type": "stream",
     "text": [
      "<class 'pandas.core.frame.DataFrame'>\n",
      "RangeIndex: 100000 entries, 0 to 99999\n",
      "Data columns (total 48 columns):\n",
      " #   Column                            Non-Null Count   Dtype              \n",
      "---  ------                            --------------   -----              \n",
      " 0   seller_address                    100000 non-null  object             \n",
      " 1   warranty                          39104 non-null   object             \n",
      " 2   sub_status                        100000 non-null  object             \n",
      " 3   condition                         100000 non-null  object             \n",
      " 4   seller_contact                    2219 non-null    object             \n",
      " 5   deal_ids                          100000 non-null  object             \n",
      " 6   base_price                        100000 non-null  float64            \n",
      " 7   shipping                          100000 non-null  object             \n",
      " 8   non_mercado_pago_payment_methods  100000 non-null  object             \n",
      " 9   seller_id                         100000 non-null  int64              \n",
      " 10  variations                        100000 non-null  object             \n",
      " 11  location                          100000 non-null  object             \n",
      " 12  site_id                           100000 non-null  object             \n",
      " 13  listing_type_id                   100000 non-null  object             \n",
      " 14  price                             100000 non-null  float64            \n",
      " 15  attributes                        100000 non-null  object             \n",
      " 16  buying_mode                       100000 non-null  object             \n",
      " 17  tags                              100000 non-null  object             \n",
      " 18  listing_source                    100000 non-null  object             \n",
      " 19  parent_item_id                    76989 non-null   object             \n",
      " 20  coverage_areas                    100000 non-null  object             \n",
      " 21  category_id                       100000 non-null  object             \n",
      " 22  descriptions                      100000 non-null  object             \n",
      " 23  last_updated                      100000 non-null  object             \n",
      " 24  international_delivery_mode       100000 non-null  object             \n",
      " 25  pictures                          100000 non-null  object             \n",
      " 26  id                                100000 non-null  object             \n",
      " 27  official_store_id                 818 non-null     float64            \n",
      " 28  differential_pricing              0 non-null       float64            \n",
      " 29  accepts_mercadopago               100000 non-null  bool               \n",
      " 30  original_price                    143 non-null     float64            \n",
      " 31  currency_id                       100000 non-null  object             \n",
      " 32  thumbnail                         100000 non-null  object             \n",
      " 33  title                             100000 non-null  object             \n",
      " 34  automatic_relist                  100000 non-null  bool               \n",
      " 35  date_created                      100000 non-null  object             \n",
      " 36  secure_thumbnail                  100000 non-null  object             \n",
      " 37  stop_time                         100000 non-null  datetime64[ns, UTC]\n",
      " 38  status                            100000 non-null  object             \n",
      " 39  video_id                          2985 non-null    object             \n",
      " 40  catalog_product_id                11 non-null      float64            \n",
      " 41  subtitle                          0 non-null       float64            \n",
      " 42  initial_quantity                  100000 non-null  int64              \n",
      " 43  start_time                        100000 non-null  datetime64[ns, UTC]\n",
      " 44  permalink                         100000 non-null  object             \n",
      " 45  geolocation                       100000 non-null  object             \n",
      " 46  sold_quantity                     100000 non-null  int64              \n",
      " 47  available_quantity                100000 non-null  int64              \n",
      "dtypes: bool(2), datetime64[ns, UTC](2), float64(7), int64(4), object(33)\n",
      "memory usage: 35.3+ MB\n"
     ]
    }
   ],
   "source": [
    "df_raw.info()\n"
   ]
  },
  {
   "cell_type": "code",
   "execution_count": 6,
   "metadata": {},
   "outputs": [
    {
     "data": {
      "text/html": [
       "<div>\n",
       "<style scoped>\n",
       "    .dataframe tbody tr th:only-of-type {\n",
       "        vertical-align: middle;\n",
       "    }\n",
       "\n",
       "    .dataframe tbody tr th {\n",
       "        vertical-align: top;\n",
       "    }\n",
       "\n",
       "    .dataframe thead th {\n",
       "        text-align: right;\n",
       "    }\n",
       "</style>\n",
       "<table border=\"1\" class=\"dataframe\">\n",
       "  <thead>\n",
       "    <tr style=\"text-align: right;\">\n",
       "      <th></th>\n",
       "      <th>count</th>\n",
       "      <th>mean</th>\n",
       "      <th>std</th>\n",
       "      <th>min</th>\n",
       "      <th>25%</th>\n",
       "      <th>50%</th>\n",
       "      <th>75%</th>\n",
       "      <th>max</th>\n",
       "    </tr>\n",
       "  </thead>\n",
       "  <tbody>\n",
       "    <tr>\n",
       "      <th>base_price</th>\n",
       "      <td>100000.0</td>\n",
       "      <td>5.252423e+04</td>\n",
       "      <td>8.623127e+06</td>\n",
       "      <td>0.84</td>\n",
       "      <td>90.0</td>\n",
       "      <td>250.0</td>\n",
       "      <td>8.000000e+02</td>\n",
       "      <td>2.222222e+09</td>\n",
       "    </tr>\n",
       "    <tr>\n",
       "      <th>seller_id</th>\n",
       "      <td>100000.0</td>\n",
       "      <td>8.425269e+07</td>\n",
       "      <td>5.497257e+07</td>\n",
       "      <td>1304.00</td>\n",
       "      <td>39535905.5</td>\n",
       "      <td>76310627.0</td>\n",
       "      <td>1.325659e+08</td>\n",
       "      <td>1.946906e+08</td>\n",
       "    </tr>\n",
       "    <tr>\n",
       "      <th>price</th>\n",
       "      <td>100000.0</td>\n",
       "      <td>5.252433e+04</td>\n",
       "      <td>8.623127e+06</td>\n",
       "      <td>0.84</td>\n",
       "      <td>90.0</td>\n",
       "      <td>250.0</td>\n",
       "      <td>8.000000e+02</td>\n",
       "      <td>2.222222e+09</td>\n",
       "    </tr>\n",
       "    <tr>\n",
       "      <th>official_store_id</th>\n",
       "      <td>818.0</td>\n",
       "      <td>2.064438e+02</td>\n",
       "      <td>1.282530e+02</td>\n",
       "      <td>1.00</td>\n",
       "      <td>84.0</td>\n",
       "      <td>216.0</td>\n",
       "      <td>3.127500e+02</td>\n",
       "      <td>4.460000e+02</td>\n",
       "    </tr>\n",
       "    <tr>\n",
       "      <th>differential_pricing</th>\n",
       "      <td>0.0</td>\n",
       "      <td>NaN</td>\n",
       "      <td>NaN</td>\n",
       "      <td>NaN</td>\n",
       "      <td>NaN</td>\n",
       "      <td>NaN</td>\n",
       "      <td>NaN</td>\n",
       "      <td>NaN</td>\n",
       "    </tr>\n",
       "    <tr>\n",
       "      <th>original_price</th>\n",
       "      <td>143.0</td>\n",
       "      <td>1.593342e+03</td>\n",
       "      <td>2.245798e+03</td>\n",
       "      <td>120.00</td>\n",
       "      <td>449.0</td>\n",
       "      <td>858.0</td>\n",
       "      <td>1.500000e+03</td>\n",
       "      <td>1.399900e+04</td>\n",
       "    </tr>\n",
       "    <tr>\n",
       "      <th>catalog_product_id</th>\n",
       "      <td>11.0</td>\n",
       "      <td>3.727643e+06</td>\n",
       "      <td>1.884698e+06</td>\n",
       "      <td>94404.00</td>\n",
       "      <td>3050701.5</td>\n",
       "      <td>5093232.0</td>\n",
       "      <td>5.103216e+06</td>\n",
       "      <td>5.434513e+06</td>\n",
       "    </tr>\n",
       "    <tr>\n",
       "      <th>subtitle</th>\n",
       "      <td>0.0</td>\n",
       "      <td>NaN</td>\n",
       "      <td>NaN</td>\n",
       "      <td>NaN</td>\n",
       "      <td>NaN</td>\n",
       "      <td>NaN</td>\n",
       "      <td>NaN</td>\n",
       "      <td>NaN</td>\n",
       "    </tr>\n",
       "    <tr>\n",
       "      <th>initial_quantity</th>\n",
       "      <td>100000.0</td>\n",
       "      <td>3.509337e+01</td>\n",
       "      <td>4.210762e+02</td>\n",
       "      <td>1.00</td>\n",
       "      <td>1.0</td>\n",
       "      <td>1.0</td>\n",
       "      <td>2.000000e+00</td>\n",
       "      <td>9.999000e+03</td>\n",
       "    </tr>\n",
       "    <tr>\n",
       "      <th>sold_quantity</th>\n",
       "      <td>100000.0</td>\n",
       "      <td>2.396990e+00</td>\n",
       "      <td>4.268508e+01</td>\n",
       "      <td>0.00</td>\n",
       "      <td>0.0</td>\n",
       "      <td>0.0</td>\n",
       "      <td>0.000000e+00</td>\n",
       "      <td>8.676000e+03</td>\n",
       "    </tr>\n",
       "    <tr>\n",
       "      <th>available_quantity</th>\n",
       "      <td>100000.0</td>\n",
       "      <td>3.484238e+01</td>\n",
       "      <td>4.208084e+02</td>\n",
       "      <td>1.00</td>\n",
       "      <td>1.0</td>\n",
       "      <td>1.0</td>\n",
       "      <td>2.000000e+00</td>\n",
       "      <td>9.999000e+03</td>\n",
       "    </tr>\n",
       "  </tbody>\n",
       "</table>\n",
       "</div>"
      ],
      "text/plain": [
       "                         count          mean           std       min  \\\n",
       "base_price            100000.0  5.252423e+04  8.623127e+06      0.84   \n",
       "seller_id             100000.0  8.425269e+07  5.497257e+07   1304.00   \n",
       "price                 100000.0  5.252433e+04  8.623127e+06      0.84   \n",
       "official_store_id        818.0  2.064438e+02  1.282530e+02      1.00   \n",
       "differential_pricing       0.0           NaN           NaN       NaN   \n",
       "original_price           143.0  1.593342e+03  2.245798e+03    120.00   \n",
       "catalog_product_id        11.0  3.727643e+06  1.884698e+06  94404.00   \n",
       "subtitle                   0.0           NaN           NaN       NaN   \n",
       "initial_quantity      100000.0  3.509337e+01  4.210762e+02      1.00   \n",
       "sold_quantity         100000.0  2.396990e+00  4.268508e+01      0.00   \n",
       "available_quantity    100000.0  3.484238e+01  4.208084e+02      1.00   \n",
       "\n",
       "                             25%         50%           75%           max  \n",
       "base_price                  90.0       250.0  8.000000e+02  2.222222e+09  \n",
       "seller_id             39535905.5  76310627.0  1.325659e+08  1.946906e+08  \n",
       "price                       90.0       250.0  8.000000e+02  2.222222e+09  \n",
       "official_store_id           84.0       216.0  3.127500e+02  4.460000e+02  \n",
       "differential_pricing         NaN         NaN           NaN           NaN  \n",
       "original_price             449.0       858.0  1.500000e+03  1.399900e+04  \n",
       "catalog_product_id     3050701.5   5093232.0  5.103216e+06  5.434513e+06  \n",
       "subtitle                     NaN         NaN           NaN           NaN  \n",
       "initial_quantity             1.0         1.0  2.000000e+00  9.999000e+03  \n",
       "sold_quantity                0.0         0.0  0.000000e+00  8.676000e+03  \n",
       "available_quantity           1.0         1.0  2.000000e+00  9.999000e+03  "
      ]
     },
     "execution_count": 6,
     "metadata": {},
     "output_type": "execute_result"
    }
   ],
   "source": [
    "df_raw.describe().T"
   ]
  },
  {
   "cell_type": "code",
   "execution_count": 7,
   "metadata": {},
   "outputs": [
    {
     "data": {
      "text/plain": [
       "(100000, 48)"
      ]
     },
     "execution_count": 7,
     "metadata": {},
     "output_type": "execute_result"
    }
   ],
   "source": [
    "df_raw.shape"
   ]
  },
  {
   "cell_type": "markdown",
   "metadata": {},
   "source": [
    "#### **`seller_address` & `location` Values**"
   ]
  },
  {
   "cell_type": "code",
   "execution_count": 8,
   "metadata": {},
   "outputs": [
    {
     "data": {
      "text/plain": [
       "{'open_hours': '',\n",
       " 'neighborhood': {'name': 'San Nicolás', 'id': 'TUxBQlNBTjgzMjRa'},\n",
       " 'longitude': '',\n",
       " 'country': {'name': 'Argentina', 'id': 'AR'},\n",
       " 'address_line': 'Florida al 600, Entre Viamonte y Tucuman',\n",
       " 'latitude': '',\n",
       " 'zip_code': '',\n",
       " 'city': {'name': 'Capital Federal', 'id': 'TUxBQ0NBUGZlZG1sYQ'},\n",
       " 'state': {'name': 'Capital Federal', 'id': 'TUxBUENBUGw3M2E1'}}"
      ]
     },
     "execution_count": 8,
     "metadata": {},
     "output_type": "execute_result"
    }
   ],
   "source": [
    "df_raw.loc[59, 'location']"
   ]
  },
  {
   "cell_type": "code",
   "execution_count": 9,
   "metadata": {},
   "outputs": [
    {
     "data": {
      "text/plain": [
       "{'comment': '',\n",
       " 'longitude': -58.3986709,\n",
       " 'id': 78162842,\n",
       " 'country': {'name': 'Argentina', 'id': 'AR'},\n",
       " 'address_line': '',\n",
       " 'latitude': -34.6280698,\n",
       " 'search_location': {'neighborhood': {'name': 'San Cristóbal',\n",
       "   'id': 'TUxBQlNBTjkwNTZa'},\n",
       "  'state': {'name': 'Capital Federal', 'id': 'TUxBUENBUGw3M2E1'},\n",
       "  'city': {'name': 'Capital Federal', 'id': 'TUxBQ0NBUGZlZG1sYQ'}},\n",
       " 'zip_code': '',\n",
       " 'city': {'name': 'San Cristóbal', 'id': 'TUxBQlNBTjkwNTZa'},\n",
       " 'state': {'name': 'Capital Federal', 'id': 'AR-C'}}"
      ]
     },
     "execution_count": 9,
     "metadata": {},
     "output_type": "execute_result"
    }
   ],
   "source": [
    "df_raw.loc[0, 'seller_address']"
   ]
  },
  {
   "cell_type": "markdown",
   "metadata": {},
   "source": [
    "### **Data Preprocessing**"
   ]
  },
  {
   "cell_type": "markdown",
   "metadata": {},
   "source": [
    "##### **Column Organisation**"
   ]
  },
  {
   "cell_type": "code",
   "execution_count": 10,
   "metadata": {},
   "outputs": [
    {
     "data": {
      "text/plain": [
       "Index(['seller_address', 'warranty', 'sub_status', 'condition',\n",
       "       'seller_contact', 'deal_ids', 'base_price', 'shipping',\n",
       "       'non_mercado_pago_payment_methods', 'seller_id', 'variations',\n",
       "       'location', 'site_id', 'listing_type_id', 'price', 'attributes',\n",
       "       'buying_mode', 'tags', 'listing_source', 'parent_item_id',\n",
       "       'coverage_areas', 'category_id', 'descriptions', 'last_updated',\n",
       "       'international_delivery_mode', 'pictures', 'id', 'official_store_id',\n",
       "       'differential_pricing', 'accepts_mercadopago', 'original_price',\n",
       "       'currency_id', 'thumbnail', 'title', 'automatic_relist', 'date_created',\n",
       "       'secure_thumbnail', 'stop_time', 'status', 'video_id',\n",
       "       'catalog_product_id', 'subtitle', 'initial_quantity', 'start_time',\n",
       "       'permalink', 'geolocation', 'sold_quantity', 'available_quantity'],\n",
       "      dtype='object')"
      ]
     },
     "execution_count": 10,
     "metadata": {},
     "output_type": "execute_result"
    }
   ],
   "source": [
    "df_raw.columns"
   ]
  },
  {
   "cell_type": "code",
   "execution_count": 11,
   "metadata": {},
   "outputs": [],
   "source": [
    "deleted_columns = [\n",
    "    \"attributes\",\n",
    "    \"base_price\",\n",
    "    \"catalog_product_id\",\n",
    "    \"category_id\",\n",
    "    \"coverage_areas\",\n",
    "    \"currency_id\",\n",
    "    \"date_created\",\n",
    "    \"deal_ids\",\n",
    "    \"descriptions\",\n",
    "    \"differential_pricing\",\n",
    "    \"geolocation\",\n",
    "    \"id\",\n",
    "    \"international_delivery_mode\",\n",
    "    \"last_updated\",\n",
    "    \"listing_source\",\n",
    "    \"location\",\n",
    "    \"non_mercado_pago_payment_methods\",\n",
    "    \"official_store_id\",\n",
    "    \"original_price\",\n",
    "    \"parent_item_id\",\n",
    "    \"permalink\",\n",
    "    \"pictures\",\n",
    "    \"secure_thumbnail\",\n",
    "    \"seller_address\",\n",
    "    \"seller_contact\",\n",
    "    \"seller_id\",\n",
    "    \"site_id\",\n",
    "    \"sold_quantity\",\n",
    "    \"start_time\",\n",
    "    \"stop_time\",\n",
    "    \"sub_status\",\n",
    "    \"subtitle\",\n",
    "    \"tags\",\n",
    "    \"thumbnail\",\n",
    "    \"variations\",\n",
    "    \"video_id\",\n",
    "    \"warranty\"\n",
    "    ]\n",
    "\n",
    "df_raw = df_raw.drop(deleted_columns, axis=1)"
   ]
  },
  {
   "cell_type": "code",
   "execution_count": 12,
   "metadata": {},
   "outputs": [
    {
     "data": {
      "text/plain": [
       "(100000, 11)"
      ]
     },
     "execution_count": 12,
     "metadata": {},
     "output_type": "execute_result"
    }
   ],
   "source": [
    "df_raw.shape"
   ]
  },
  {
   "cell_type": "code",
   "execution_count": 13,
   "metadata": {},
   "outputs": [
    {
     "data": {
      "text/html": [
       "<div>\n",
       "<style scoped>\n",
       "    .dataframe tbody tr th:only-of-type {\n",
       "        vertical-align: middle;\n",
       "    }\n",
       "\n",
       "    .dataframe tbody tr th {\n",
       "        vertical-align: top;\n",
       "    }\n",
       "\n",
       "    .dataframe thead th {\n",
       "        text-align: right;\n",
       "    }\n",
       "</style>\n",
       "<table border=\"1\" class=\"dataframe\">\n",
       "  <thead>\n",
       "    <tr style=\"text-align: right;\">\n",
       "      <th></th>\n",
       "      <th>condition</th>\n",
       "      <th>shipping</th>\n",
       "      <th>listing_type_id</th>\n",
       "      <th>price</th>\n",
       "      <th>buying_mode</th>\n",
       "      <th>accepts_mercadopago</th>\n",
       "      <th>title</th>\n",
       "      <th>automatic_relist</th>\n",
       "      <th>status</th>\n",
       "      <th>initial_quantity</th>\n",
       "      <th>available_quantity</th>\n",
       "    </tr>\n",
       "  </thead>\n",
       "  <tbody>\n",
       "    <tr>\n",
       "      <th>0</th>\n",
       "      <td>new</td>\n",
       "      <td>{'local_pick_up': True, 'methods': [], 'tags':...</td>\n",
       "      <td>bronze</td>\n",
       "      <td>80.0</td>\n",
       "      <td>buy_it_now</td>\n",
       "      <td>True</td>\n",
       "      <td>Auriculares Samsung Originales Manos Libres Ca...</td>\n",
       "      <td>False</td>\n",
       "      <td>active</td>\n",
       "      <td>1</td>\n",
       "      <td>1</td>\n",
       "    </tr>\n",
       "    <tr>\n",
       "      <th>1</th>\n",
       "      <td>used</td>\n",
       "      <td>{'local_pick_up': True, 'methods': [], 'tags':...</td>\n",
       "      <td>silver</td>\n",
       "      <td>2650.0</td>\n",
       "      <td>buy_it_now</td>\n",
       "      <td>True</td>\n",
       "      <td>Cuchillo Daga Acero Carbón Casco Yelmo Solinge...</td>\n",
       "      <td>False</td>\n",
       "      <td>active</td>\n",
       "      <td>1</td>\n",
       "      <td>1</td>\n",
       "    </tr>\n",
       "    <tr>\n",
       "      <th>2</th>\n",
       "      <td>used</td>\n",
       "      <td>{'local_pick_up': True, 'methods': [], 'tags':...</td>\n",
       "      <td>bronze</td>\n",
       "      <td>60.0</td>\n",
       "      <td>buy_it_now</td>\n",
       "      <td>True</td>\n",
       "      <td>Antigua Revista Billiken, N° 1826, Año 1954</td>\n",
       "      <td>False</td>\n",
       "      <td>active</td>\n",
       "      <td>1</td>\n",
       "      <td>1</td>\n",
       "    </tr>\n",
       "    <tr>\n",
       "      <th>3</th>\n",
       "      <td>new</td>\n",
       "      <td>{'local_pick_up': True, 'methods': [], 'tags':...</td>\n",
       "      <td>silver</td>\n",
       "      <td>580.0</td>\n",
       "      <td>buy_it_now</td>\n",
       "      <td>True</td>\n",
       "      <td>Alarma Guardtex Gx412 Seguridad Para El Automo...</td>\n",
       "      <td>False</td>\n",
       "      <td>active</td>\n",
       "      <td>1</td>\n",
       "      <td>1</td>\n",
       "    </tr>\n",
       "    <tr>\n",
       "      <th>4</th>\n",
       "      <td>used</td>\n",
       "      <td>{'local_pick_up': True, 'methods': [], 'tags':...</td>\n",
       "      <td>bronze</td>\n",
       "      <td>30.0</td>\n",
       "      <td>buy_it_now</td>\n",
       "      <td>True</td>\n",
       "      <td>Serenata - Jennifer Blake</td>\n",
       "      <td>False</td>\n",
       "      <td>active</td>\n",
       "      <td>1</td>\n",
       "      <td>1</td>\n",
       "    </tr>\n",
       "  </tbody>\n",
       "</table>\n",
       "</div>"
      ],
      "text/plain": [
       "  condition                                           shipping  \\\n",
       "0       new  {'local_pick_up': True, 'methods': [], 'tags':...   \n",
       "1      used  {'local_pick_up': True, 'methods': [], 'tags':...   \n",
       "2      used  {'local_pick_up': True, 'methods': [], 'tags':...   \n",
       "3       new  {'local_pick_up': True, 'methods': [], 'tags':...   \n",
       "4      used  {'local_pick_up': True, 'methods': [], 'tags':...   \n",
       "\n",
       "  listing_type_id   price buying_mode  accepts_mercadopago  \\\n",
       "0          bronze    80.0  buy_it_now                 True   \n",
       "1          silver  2650.0  buy_it_now                 True   \n",
       "2          bronze    60.0  buy_it_now                 True   \n",
       "3          silver   580.0  buy_it_now                 True   \n",
       "4          bronze    30.0  buy_it_now                 True   \n",
       "\n",
       "                                               title  automatic_relist  \\\n",
       "0  Auriculares Samsung Originales Manos Libres Ca...             False   \n",
       "1  Cuchillo Daga Acero Carbón Casco Yelmo Solinge...             False   \n",
       "2        Antigua Revista Billiken, N° 1826, Año 1954             False   \n",
       "3  Alarma Guardtex Gx412 Seguridad Para El Automo...             False   \n",
       "4                          Serenata - Jennifer Blake             False   \n",
       "\n",
       "   status  initial_quantity  available_quantity  \n",
       "0  active                 1                   1  \n",
       "1  active                 1                   1  \n",
       "2  active                 1                   1  \n",
       "3  active                 1                   1  \n",
       "4  active                 1                   1  "
      ]
     },
     "execution_count": 13,
     "metadata": {},
     "output_type": "execute_result"
    }
   ],
   "source": [
    "df_raw.head()"
   ]
  },
  {
   "cell_type": "code",
   "execution_count": 14,
   "metadata": {},
   "outputs": [
    {
     "data": {
      "text/plain": [
       "Index(['condition', 'shipping', 'listing_type_id', 'price', 'buying_mode',\n",
       "       'accepts_mercadopago', 'title', 'automatic_relist', 'status',\n",
       "       'initial_quantity', 'available_quantity'],\n",
       "      dtype='object')"
      ]
     },
     "execution_count": 14,
     "metadata": {},
     "output_type": "execute_result"
    }
   ],
   "source": [
    "df_raw.columns"
   ]
  },
  {
   "cell_type": "markdown",
   "metadata": {},
   "source": [
    "##### **Normalising `shipping` column**"
   ]
  },
  {
   "cell_type": "code",
   "execution_count": 15,
   "metadata": {},
   "outputs": [
    {
     "data": {
      "text/plain": [
       "{'local_pick_up': False,\n",
       " 'methods': [],\n",
       " 'tags': [],\n",
       " 'free_shipping': False,\n",
       " 'mode': 'not_specified',\n",
       " 'dimensions': None}"
      ]
     },
     "execution_count": 15,
     "metadata": {},
     "output_type": "execute_result"
    }
   ],
   "source": [
    "df_raw.loc[59, 'shipping']"
   ]
  },
  {
   "cell_type": "code",
   "execution_count": 16,
   "metadata": {},
   "outputs": [],
   "source": [
    "normalised_shipping = pd.json_normalize(df_raw['shipping'])"
   ]
  },
  {
   "cell_type": "code",
   "execution_count": 17,
   "metadata": {},
   "outputs": [],
   "source": [
    "filtered_shipping = normalised_shipping[['local_pick_up', 'free_shipping', 'mode']]"
   ]
  },
  {
   "cell_type": "code",
   "execution_count": 18,
   "metadata": {},
   "outputs": [],
   "source": [
    "df = pd.concat([df_raw.drop('shipping', axis=1), filtered_shipping], axis=1)"
   ]
  },
  {
   "cell_type": "code",
   "execution_count": 19,
   "metadata": {},
   "outputs": [
    {
     "data": {
      "text/html": [
       "<div>\n",
       "<style scoped>\n",
       "    .dataframe tbody tr th:only-of-type {\n",
       "        vertical-align: middle;\n",
       "    }\n",
       "\n",
       "    .dataframe tbody tr th {\n",
       "        vertical-align: top;\n",
       "    }\n",
       "\n",
       "    .dataframe thead th {\n",
       "        text-align: right;\n",
       "    }\n",
       "</style>\n",
       "<table border=\"1\" class=\"dataframe\">\n",
       "  <thead>\n",
       "    <tr style=\"text-align: right;\">\n",
       "      <th></th>\n",
       "      <th>condition</th>\n",
       "      <th>listing_type_id</th>\n",
       "      <th>price</th>\n",
       "      <th>buying_mode</th>\n",
       "      <th>accepts_mercadopago</th>\n",
       "      <th>title</th>\n",
       "      <th>automatic_relist</th>\n",
       "      <th>status</th>\n",
       "      <th>initial_quantity</th>\n",
       "      <th>available_quantity</th>\n",
       "      <th>local_pick_up</th>\n",
       "      <th>free_shipping</th>\n",
       "      <th>mode</th>\n",
       "    </tr>\n",
       "  </thead>\n",
       "  <tbody>\n",
       "    <tr>\n",
       "      <th>0</th>\n",
       "      <td>new</td>\n",
       "      <td>bronze</td>\n",
       "      <td>80.0</td>\n",
       "      <td>buy_it_now</td>\n",
       "      <td>True</td>\n",
       "      <td>Auriculares Samsung Originales Manos Libres Ca...</td>\n",
       "      <td>False</td>\n",
       "      <td>active</td>\n",
       "      <td>1</td>\n",
       "      <td>1</td>\n",
       "      <td>True</td>\n",
       "      <td>False</td>\n",
       "      <td>not_specified</td>\n",
       "    </tr>\n",
       "    <tr>\n",
       "      <th>1</th>\n",
       "      <td>used</td>\n",
       "      <td>silver</td>\n",
       "      <td>2650.0</td>\n",
       "      <td>buy_it_now</td>\n",
       "      <td>True</td>\n",
       "      <td>Cuchillo Daga Acero Carbón Casco Yelmo Solinge...</td>\n",
       "      <td>False</td>\n",
       "      <td>active</td>\n",
       "      <td>1</td>\n",
       "      <td>1</td>\n",
       "      <td>True</td>\n",
       "      <td>False</td>\n",
       "      <td>me2</td>\n",
       "    </tr>\n",
       "    <tr>\n",
       "      <th>2</th>\n",
       "      <td>used</td>\n",
       "      <td>bronze</td>\n",
       "      <td>60.0</td>\n",
       "      <td>buy_it_now</td>\n",
       "      <td>True</td>\n",
       "      <td>Antigua Revista Billiken, N° 1826, Año 1954</td>\n",
       "      <td>False</td>\n",
       "      <td>active</td>\n",
       "      <td>1</td>\n",
       "      <td>1</td>\n",
       "      <td>True</td>\n",
       "      <td>False</td>\n",
       "      <td>me2</td>\n",
       "    </tr>\n",
       "    <tr>\n",
       "      <th>3</th>\n",
       "      <td>new</td>\n",
       "      <td>silver</td>\n",
       "      <td>580.0</td>\n",
       "      <td>buy_it_now</td>\n",
       "      <td>True</td>\n",
       "      <td>Alarma Guardtex Gx412 Seguridad Para El Automo...</td>\n",
       "      <td>False</td>\n",
       "      <td>active</td>\n",
       "      <td>1</td>\n",
       "      <td>1</td>\n",
       "      <td>True</td>\n",
       "      <td>False</td>\n",
       "      <td>me2</td>\n",
       "    </tr>\n",
       "    <tr>\n",
       "      <th>4</th>\n",
       "      <td>used</td>\n",
       "      <td>bronze</td>\n",
       "      <td>30.0</td>\n",
       "      <td>buy_it_now</td>\n",
       "      <td>True</td>\n",
       "      <td>Serenata - Jennifer Blake</td>\n",
       "      <td>False</td>\n",
       "      <td>active</td>\n",
       "      <td>1</td>\n",
       "      <td>1</td>\n",
       "      <td>True</td>\n",
       "      <td>False</td>\n",
       "      <td>not_specified</td>\n",
       "    </tr>\n",
       "  </tbody>\n",
       "</table>\n",
       "</div>"
      ],
      "text/plain": [
       "  condition listing_type_id   price buying_mode  accepts_mercadopago  \\\n",
       "0       new          bronze    80.0  buy_it_now                 True   \n",
       "1      used          silver  2650.0  buy_it_now                 True   \n",
       "2      used          bronze    60.0  buy_it_now                 True   \n",
       "3       new          silver   580.0  buy_it_now                 True   \n",
       "4      used          bronze    30.0  buy_it_now                 True   \n",
       "\n",
       "                                               title  automatic_relist  \\\n",
       "0  Auriculares Samsung Originales Manos Libres Ca...             False   \n",
       "1  Cuchillo Daga Acero Carbón Casco Yelmo Solinge...             False   \n",
       "2        Antigua Revista Billiken, N° 1826, Año 1954             False   \n",
       "3  Alarma Guardtex Gx412 Seguridad Para El Automo...             False   \n",
       "4                          Serenata - Jennifer Blake             False   \n",
       "\n",
       "   status  initial_quantity  available_quantity  local_pick_up  free_shipping  \\\n",
       "0  active                 1                   1           True          False   \n",
       "1  active                 1                   1           True          False   \n",
       "2  active                 1                   1           True          False   \n",
       "3  active                 1                   1           True          False   \n",
       "4  active                 1                   1           True          False   \n",
       "\n",
       "            mode  \n",
       "0  not_specified  \n",
       "1            me2  \n",
       "2            me2  \n",
       "3            me2  \n",
       "4  not_specified  "
      ]
     },
     "execution_count": 19,
     "metadata": {},
     "output_type": "execute_result"
    }
   ],
   "source": [
    "df.head()"
   ]
  },
  {
   "cell_type": "markdown",
   "metadata": {},
   "source": [
    "##### **`free_shipping` column**"
   ]
  },
  {
   "cell_type": "code",
   "execution_count": 20,
   "metadata": {},
   "outputs": [
    {
     "data": {
      "text/plain": [
       "free_shipping\n",
       "False    96984\n",
       "True      3016\n",
       "Name: count, dtype: int64"
      ]
     },
     "execution_count": 20,
     "metadata": {},
     "output_type": "execute_result"
    }
   ],
   "source": [
    "df['free_shipping'].value_counts()"
   ]
  },
  {
   "cell_type": "code",
   "execution_count": 21,
   "metadata": {},
   "outputs": [
    {
     "data": {
      "text/plain": [
       "np.int64(0)"
      ]
     },
     "execution_count": 21,
     "metadata": {},
     "output_type": "execute_result"
    }
   ],
   "source": [
    "df['free_shipping'].isna().sum()"
   ]
  },
  {
   "cell_type": "markdown",
   "metadata": {},
   "source": [
    "##### **`local_pick_up` column**"
   ]
  },
  {
   "cell_type": "code",
   "execution_count": 22,
   "metadata": {},
   "outputs": [
    {
     "data": {
      "text/plain": [
       "local_pick_up\n",
       "True     79561\n",
       "False    20439\n",
       "Name: count, dtype: int64"
      ]
     },
     "execution_count": 22,
     "metadata": {},
     "output_type": "execute_result"
    }
   ],
   "source": [
    "df['local_pick_up'].value_counts()"
   ]
  },
  {
   "cell_type": "code",
   "execution_count": 23,
   "metadata": {},
   "outputs": [
    {
     "data": {
      "text/plain": [
       "np.int64(0)"
      ]
     },
     "execution_count": 23,
     "metadata": {},
     "output_type": "execute_result"
    }
   ],
   "source": [
    "df['local_pick_up'].isna().sum()"
   ]
  },
  {
   "cell_type": "markdown",
   "metadata": {},
   "source": [
    "##### **Duplicates, `title` and `status`**"
   ]
  },
  {
   "cell_type": "code",
   "execution_count": 24,
   "metadata": {},
   "outputs": [
    {
     "data": {
      "text/plain": [
       "(100000, 13)"
      ]
     },
     "execution_count": 24,
     "metadata": {},
     "output_type": "execute_result"
    }
   ],
   "source": [
    "df.shape"
   ]
  },
  {
   "cell_type": "code",
   "execution_count": 25,
   "metadata": {},
   "outputs": [],
   "source": [
    "df = df.drop_duplicates()"
   ]
  },
  {
   "cell_type": "code",
   "execution_count": 26,
   "metadata": {},
   "outputs": [
    {
     "data": {
      "text/plain": [
       "(99373, 13)"
      ]
     },
     "execution_count": 26,
     "metadata": {},
     "output_type": "execute_result"
    }
   ],
   "source": [
    "df.shape"
   ]
  },
  {
   "cell_type": "code",
   "execution_count": 27,
   "metadata": {},
   "outputs": [],
   "source": [
    "df = df.drop(columns=['title'])"
   ]
  },
  {
   "cell_type": "code",
   "execution_count": 28,
   "metadata": {},
   "outputs": [
    {
     "data": {
      "text/plain": [
       "status\n",
       "active            95076\n",
       "paused             4276\n",
       "closed               20\n",
       "not_yet_active        1\n",
       "Name: count, dtype: int64"
      ]
     },
     "execution_count": 28,
     "metadata": {},
     "output_type": "execute_result"
    }
   ],
   "source": [
    "df['status'].value_counts()"
   ]
  },
  {
   "cell_type": "code",
   "execution_count": 29,
   "metadata": {},
   "outputs": [
    {
     "data": {
      "text/plain": [
       "status\n",
       "active    95076\n",
       "paused     4276\n",
       "closed       20\n",
       "Name: count, dtype: int64"
      ]
     },
     "execution_count": 29,
     "metadata": {},
     "output_type": "execute_result"
    }
   ],
   "source": [
    "df = df.query(\"status != 'not_yet_active'\").copy()\n",
    "\n",
    "df[\"status\"].value_counts()"
   ]
  },
  {
   "cell_type": "markdown",
   "metadata": {},
   "source": [
    "##### **`mode` column**"
   ]
  },
  {
   "cell_type": "code",
   "execution_count": 30,
   "metadata": {},
   "outputs": [
    {
     "data": {
      "text/plain": [
       "mode\n",
       "me2              51155\n",
       "not_specified    44656\n",
       "custom            3468\n",
       "me1                 93\n",
       "Name: count, dtype: int64"
      ]
     },
     "execution_count": 30,
     "metadata": {},
     "output_type": "execute_result"
    }
   ],
   "source": [
    "df['mode'].value_counts()"
   ]
  },
  {
   "cell_type": "code",
   "execution_count": 31,
   "metadata": {},
   "outputs": [
    {
     "data": {
      "text/plain": [
       "np.int64(0)"
      ]
     },
     "execution_count": 31,
     "metadata": {},
     "output_type": "execute_result"
    }
   ],
   "source": [
    "df['mode'].isna().sum()"
   ]
  },
  {
   "cell_type": "markdown",
   "metadata": {},
   "source": [
    "##### **Null Entries**"
   ]
  },
  {
   "cell_type": "code",
   "execution_count": 32,
   "metadata": {},
   "outputs": [
    {
     "data": {
      "text/plain": [
       "condition              0\n",
       "listing_type_id        0\n",
       "price                  0\n",
       "buying_mode            0\n",
       "accepts_mercadopago    0\n",
       "automatic_relist       0\n",
       "status                 0\n",
       "initial_quantity       0\n",
       "available_quantity     0\n",
       "local_pick_up          0\n",
       "free_shipping          0\n",
       "mode                   0\n",
       "dtype: int64"
      ]
     },
     "execution_count": 32,
     "metadata": {},
     "output_type": "execute_result"
    }
   ],
   "source": [
    "df.isnull().sum()"
   ]
  },
  {
   "cell_type": "markdown",
   "metadata": {},
   "source": [
    "### **Clean Data Exportation**"
   ]
  },
  {
   "cell_type": "code",
   "execution_count": 33,
   "metadata": {},
   "outputs": [],
   "source": [
    "df.to_csv(\"data/MLA_100k_clean.csv\", index=False)"
   ]
  }
 ],
 "metadata": {
  "kernelspec": {
   "display_name": "Python 3",
   "language": "python",
   "name": "python3"
  },
  "language_info": {
   "codemirror_mode": {
    "name": "ipython",
    "version": 3
   },
   "file_extension": ".py",
   "mimetype": "text/x-python",
   "name": "python",
   "nbconvert_exporter": "python",
   "pygments_lexer": "ipython3",
   "version": "3.13.1"
  }
 },
 "nbformat": 4,
 "nbformat_minor": 2
}
